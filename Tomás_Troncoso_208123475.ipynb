{
  "nbformat": 4,
  "nbformat_minor": 0,
  "metadata": {
    "colab": {
      "provenance": []
    },
    "kernelspec": {
      "name": "python3",
      "display_name": "Python 3"
    },
    "language_info": {
      "name": "python"
    }
  },
  "cells": [
    {
      "cell_type": "code",
      "execution_count": 2,
      "metadata": {
        "id": "tXBpKkuOf8rx"
      },
      "outputs": [],
      "source": [
        "n = 1000\n",
        "s = 0\n",
        "\n",
        "# Tenemos un ciclo que se ejecuta n veces\n",
        "for i in range(n):\n",
        "  # Otro ciclo que se ejecuta n veces\n",
        "    for j in range(n):\n",
        "        if i < j:\n",
        "            s = s + i + j\n"
      ]
    },
    {
      "cell_type": "markdown",
      "source": [
        "Por lo tanto, al tener 2 ciclos que se ejecutan n veces entonces el número de pasos es de la forma $\\mathcal{O}(n^c)$ donde $\\mathcal{c}=2$, entonces el número de pasos es $\\mathcal{O}(n^2)$"
      ],
      "metadata": {
        "id": "V0obWYvLhJVC"
      }
    },
    {
      "cell_type": "code",
      "source": [
        "n = 1000\n",
        "s = 0\n",
        "\n",
        "# Ciclo el cuál se repite n veces\n",
        "for i in range(n):\n",
        "  #Cuando  n  es un número muy grande este ciclo se repite aproximadamente (n^2)/2\n",
        "    for j in range(i):\n",
        "\n",
        "        s = s + i + j"
      ],
      "metadata": {
        "id": "ZUcKSG5Chht5"
      },
      "execution_count": null,
      "outputs": []
    },
    {
      "cell_type": "markdown",
      "source": [
        "Entonces nuestro número de pasos es practicamente igual que el código anterior; $\\mathcal{O}(n^2)$"
      ],
      "metadata": {
        "id": "DP8zc1SFh1xQ"
      }
    },
    {
      "cell_type": "code",
      "source": [
        "n = 1000\n",
        "s = 0\n",
        "# Ciclo que se repite n veces\n",
        "for i in range(n):\n",
        "  #sum() es de la forma O(n), ya que suma en el intervalo n\n",
        "    s = s + i + sum(range(n))\n"
      ],
      "metadata": {
        "id": "4UsNfQDOiEP9"
      },
      "execution_count": null,
      "outputs": []
    },
    {
      "cell_type": "markdown",
      "source": [
        "Por lo tanto el número de pasos es de la forma; $\\mathcal{O}(n^2)$"
      ],
      "metadata": {
        "id": "G17fKnO2jjIN"
      }
    },
    {
      "cell_type": "code",
      "source": [
        "n = 100000\n",
        "small = 0\n",
        "p = 146\n",
        "attempt = n//2\n",
        "not_found = True\n",
        "s = 0\n",
        "while not_found:\n",
        "    s = s + 1\n",
        "    if attempt > p:\n",
        "        n = attempt\n",
        "    elif attempt < p:\n",
        "        small = attempt\n",
        "    else:\n",
        "        print('Encontré', attempt, 'luego de', s, 'pasos')\n",
        "        break\n",
        "    attempt = (n + small)//2"
      ],
      "metadata": {
        "colab": {
          "base_uri": "https://localhost:8080/"
        },
        "id": "js4T4eVijwp7",
        "outputId": "af115313-00b8-43ec-e2ca-199f8571f1a4"
      },
      "execution_count": 27,
      "outputs": [
        {
          "output_type": "stream",
          "name": "stdout",
          "text": [
            "Encontré 146 luego de 11 pasos\n"
          ]
        }
      ]
    },
    {
      "cell_type": "code",
      "source": [
        "#Vares de s para cieros n\n",
        "\n",
        "n        s\n",
        "100000   11\n",
        "200000   12\n",
        "300000   13\n",
        "400000   14\n",
        "500000   15\n",
        "600000   16\n"
      ],
      "metadata": {
        "id": "B1JI4tzjo_Gf"
      },
      "execution_count": null,
      "outputs": []
    },
    {
      "cell_type": "markdown",
      "source": [
        "Podemos notar que no existe ni una relación lineal ni potencial"
      ],
      "metadata": {
        "id": "oeQSDf0cpFe2"
      }
    },
    {
      "cell_type": "code",
      "source": [
        "n_valores = []  # lista vacía para almacenar los valores de n\n",
        "n=100000\n",
        "for i in range(1, 20):  # ciclo para almacenar los valores multipos de\n",
        "    n_valores.append(n)\n",
        "    n*=2\n",
        "\n",
        "s_valores = []  # Lista para almacenar los valores de s correspondientes a cada n\n",
        "\n",
        "for n in n_valores:\n",
        "    small = 0\n",
        "    p = 146\n",
        "    attempt = n // 2\n",
        "    not_found = True\n",
        "    s = 0\n",
        "    while not_found:\n",
        "        s = s + 1\n",
        "        if attempt > p:\n",
        "            n = attempt\n",
        "        elif attempt < p:\n",
        "            small = attempt\n",
        "        else:\n",
        "            s_valores.append(s)  # Agregar el valor de s a la lista de los valores\n",
        "            break\n",
        "        attempt = (n + small) // 2"
      ],
      "metadata": {
        "id": "nx_QL9OcrSWI"
      },
      "execution_count": 42,
      "outputs": []
    },
    {
      "cell_type": "markdown",
      "source": [
        "Modifico un poco el código para poder crear listas de los valores de n y s, para así graficar"
      ],
      "metadata": {
        "id": "wNsfe-REslnL"
      }
    },
    {
      "cell_type": "code",
      "source": [
        "import matplotlib.pyplot as plt\n",
        "\n",
        "plt.scatter(n_valores, s_valores)\n",
        "\n",
        "plt.xlabel('n')\n",
        "plt.ylabel('s')\n",
        "plt.title('s v/s n')\n"
      ],
      "metadata": {
        "colab": {
          "base_uri": "https://localhost:8080/",
          "height": 489
        },
        "id": "b2ofPV2xscu2",
        "outputId": "32dc9575-fef2-4326-de49-35643553d4fb"
      },
      "execution_count": 46,
      "outputs": [
        {
          "output_type": "execute_result",
          "data": {
            "text/plain": [
              "Text(0.5, 1.0, 's v/s n')"
            ]
          },
          "metadata": {},
          "execution_count": 46
        },
        {
          "output_type": "display_data",
          "data": {
            "text/plain": [
              "<Figure size 640x480 with 1 Axes>"
            ],
            "image/png": "[encoded data removed]"
          },
          "metadata": {}
        }
      ]
    },
    {
      "cell_type": "markdown",
      "source": [
        "Podemos ver que la forma de la gráfica corresponde a una logarítmica, entonces el número de pasos es de la forma; $\\mathcal{O}(\\log_2 n)$"
      ],
      "metadata": {
        "id": "azuWKuUGt_as"
      }
    }
  ]
}