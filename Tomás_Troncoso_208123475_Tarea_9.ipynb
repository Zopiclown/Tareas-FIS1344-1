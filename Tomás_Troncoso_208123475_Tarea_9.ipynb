{
  "nbformat": 4,
  "nbformat_minor": 0,
  "metadata": {
    "colab": {
      "provenance": []
    },
    "kernelspec": {
      "name": "python3",
      "display_name": "Python 3"
    },
    "language_info": {
      "name": "python"
    }
  },
  "cells": [
    {
      "cell_type": "code",
      "execution_count": 4,
      "metadata": {
        "id": "Hno1PxwCF3t0"
      },
      "outputs": [],
      "source": [
        "import numpy as np\n",
        "import matplotlib.pyplot as plt"
      ]
    },
    {
      "cell_type": "code",
      "source": [
        "#funciones de las ecuaciones de fresnel\n",
        "def C(w):\n",
        "    return np.cos((np.pi/2)*w**2)\n",
        "def S(w):\n",
        "    return np.sin((np.pi/2)*w**2)"
      ],
      "metadata": {
        "id": "ynr_jn4iF697"
      },
      "execution_count": 5,
      "outputs": []
    },
    {
      "cell_type": "code",
      "source": [
        "#función utilizada en clases\n",
        "\n",
        "class MaxIterations(Exception):\n",
        "    pass\n",
        "\n",
        "def adaptive(f, a, b, tol, N=100000):\n",
        "\n",
        "    \"\"\"\n",
        "    Approximate the definite integral of a given function 'f' over the interval [a, b]\n",
        "    using adaptive Simpson's rule.\n",
        "\n",
        "    Parameters:\n",
        "    - f (callable): The function to integrate.\n",
        "    - a (float): The lower limit of integration.\n",
        "    - b (float): The upper limit of integration.\n",
        "    - tol (float): The tolerance for the approximation.\n",
        "    - N (int, optional): The maximum number of iterations. Defaults to 100000.\n",
        "\n",
        "    Returns:\n",
        "    float: The approximate definite integral of 'f' over [a, b].\n",
        "\n",
        "    Raises:\n",
        "    MaxIterations: If the maximum number of iterations 'N' is reached without satisfying the tolerance.\n",
        "\n",
        "    Note:\n",
        "    This function implements an adaptive Simpson's rule for numerical integration,\n",
        "    adjusting the step size to achieve the desired accuracy within the specified tolerance.\n",
        "    \"\"\"\n",
        "    # function implementation...\n",
        "\n",
        "\n",
        "    #Variables iniciales\n",
        "    approx = 0\n",
        "    i = 0\n",
        "    toli = [10*tol]\n",
        "    ai = [a]\n",
        "    hi = [(b - a)/2]\n",
        "    fai = [f(a)]\n",
        "    fbi = [f(b)]\n",
        "    fci = [f(a + hi[i])]\n",
        "    S0i = [hi[i]*(fai[i] + 4*fci[i] + fbi[i])/3]\n",
        "    Li = [1]\n",
        "\n",
        "    while i >= 0:\n",
        "\n",
        "        fd = f(ai[i] + hi[i]/2)\n",
        "        fe = f(ai[i] + 3*hi[i]/2)\n",
        "        S1 = hi[i]*(fai[i] + 4*fd + fci[i])/6\n",
        "        S2 = hi[i]*(fci[i] + 4*fe + fbi[i])/6\n",
        "        ai_prec = ai[i]\n",
        "        hi_prec = hi[i]\n",
        "        fai_prec = fai[i]\n",
        "        fbi_prec = fbi[i]\n",
        "        fci_prec = fci[i]\n",
        "        toli_prec = toli[i]\n",
        "        S0i_prec = S0i[i]\n",
        "        Li_prec = Li[i]\n",
        "\n",
        "        i -= 1\n",
        "        if abs(S1 + S2 - S0i_prec) < toli_prec:\n",
        "            approx += S1 + S2\n",
        "        else:\n",
        "            if Li_prec >= N:\n",
        "                raise MaxIterations(\"Alcanzado máximo número de iteraciones.\")\n",
        "\n",
        "            # Intervalo derecho\n",
        "            i += 1\n",
        "            if i >= len(ai): # A veces hay que ampliar la lista\n",
        "                ai.append(ai_prec + hi_prec)\n",
        "                fai.append(fci_prec)\n",
        "                fci.append(fe)\n",
        "                fbi.append(fbi_prec)\n",
        "                hi.append(hi_prec/2)\n",
        "                toli.append(toli_prec/2)\n",
        "                S0i.append(S2)\n",
        "                Li.append(Li_prec + 1)\n",
        "            else:\n",
        "                ai[i] = ai_prec + hi_prec\n",
        "                fai[i] = fci_prec\n",
        "                fci[i] = fe\n",
        "                fbi[i] = fbi_prec\n",
        "                hi[i] = hi_prec/2\n",
        "                toli[i] = toli_prec/2\n",
        "                S0i[i] = S2\n",
        "                Li[i] = Li_prec + 1\n",
        "\n",
        "            # Intervalo izquierdo\n",
        "            i += 1\n",
        "            if i >= len(ai):\n",
        "                ai.append(ai_prec)\n",
        "                fai.append(fai_prec)\n",
        "                fci.append(fd)\n",
        "                fbi.append(fci_prec)\n",
        "                hi.append(hi[i-1])\n",
        "                toli.append(toli[i-1])\n",
        "                S0i.append(S1)\n",
        "                Li.append(Li[i-1])\n",
        "            else:\n",
        "                ai[i] = ai_prec\n",
        "                fai[i] = fai_prec\n",
        "                fci[i] = fd\n",
        "                fbi[i] = fci_prec\n",
        "                hi[i] = hi[i-1]\n",
        "                toli[i] = toli[i-1]\n",
        "                S0i[i] = S1\n",
        "                Li[i] = Li[i-1]\n",
        "\n",
        "    return approx"
      ],
      "metadata": {
        "id": "AAmb2TrDF8oo"
      },
      "execution_count": 6,
      "outputs": []
    },
    {
      "cell_type": "code",
      "source": [
        "#para guardar los datos de los valores pedidos\n",
        "\n",
        "tabla_para_graficar = np.empty([0,2])\n",
        "tabla_para_graficar"
      ],
      "metadata": {
        "colab": {
          "base_uri": "https://localhost:8080/"
        },
        "id": "4YPmsMweGV1R",
        "outputId": "73e1de02-938a-4744-be4d-3e6d6a8df0b6"
      },
      "execution_count": 8,
      "outputs": [
        {
          "output_type": "execute_result",
          "data": {
            "text/plain": [
              "array([], shape=(0, 2), dtype=float64)"
            ]
          },
          "metadata": {},
          "execution_count": 8
        }
      ]
    },
    {
      "cell_type": "code",
      "source": [
        "#loop que permite evaluar para cada tiempo en las dos funciones de las ecuaciones de fresnel\n",
        "\n",
        "for i in np.arange (0,1.1,0.1):\n",
        "    C_integrado=adaptive(C,0,i,0.0001)\n",
        "    S_integrado=adaptive(S,0,i,0.0001)\n",
        "    resultado_obtenidos= np.array([C_integrado,S_integrado])\n",
        "    tabla_para_graficar=np.vstack([tabla_para_graficar,resultado_obtenidos])\n",
        "\n",
        "tabla_para_graficar"
      ],
      "metadata": {
        "colab": {
          "base_uri": "https://localhost:8080/"
        },
        "id": "prP_DXtgGXwF",
        "outputId": "9a58977f-75a5-41dd-9a09-4b0b01a23644"
      },
      "execution_count": 11,
      "outputs": [
        {
          "output_type": "execute_result",
          "data": {
            "text/plain": [
              "array([[0.00000000e+00, 0.00000000e+00],\n",
              "       [9.99975262e-02, 5.23589387e-04],\n",
              "       [1.99920853e-01, 4.18758861e-03],\n",
              "       [2.99399446e-01, 1.41166481e-02],\n",
              "       [3.97474593e-01, 3.33568374e-02],\n",
              "       [4.92327199e-01, 6.47203162e-02],\n",
              "       [5.81060999e-01, 1.10498453e-01],\n",
              "       [6.59649786e-01, 1.72129265e-01],\n",
              "       [7.22844230e-01, 2.49325381e-01],\n",
              "       [7.64971727e-01, 3.39746957e-01],\n",
              "       [7.79880037e-01, 4.38245260e-01]])"
            ]
          },
          "metadata": {},
          "execution_count": 11
        }
      ]
    }
  ]
}