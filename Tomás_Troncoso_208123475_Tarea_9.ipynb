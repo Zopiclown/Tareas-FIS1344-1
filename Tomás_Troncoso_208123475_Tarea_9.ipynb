{
  "cells": [
    {
      "cell_type": "code",
      "execution_count": 4,
      "metadata": {
        "id": "Hno1PxwCF3t0"
      },
      "outputs": [],
      "source": [
        "import numpy as np\n",
        "import matplotlib.pyplot as plt"
      ]
    },
    {
      "cell_type": "code",
      "execution_count": 5,
      "metadata": {
        "id": "ynr_jn4iF697"
      },
      "outputs": [],
      "source": [
        "#funciones de las ecuaciones de fresnel\n",
        "def C(w):\n",
        "    return np.cos((np.pi/2)*w**2)\n",
        "def S(w):\n",
        "    return np.sin((np.pi/2)*w**2)"
      ]
    },
    {
      "cell_type": "code",
      "execution_count": 14,
      "metadata": {
        "id": "AAmb2TrDF8oo"
      },
      "outputs": [],
      "source": [
        "#función utilizada en clases\n",
        "\n",
        "class MaxIterations(Exception):\n",
        "    pass\n",
        "\n",
        "def adaptive(f, a, b, tol, N=100000):\n",
        "    \"\"\"\n",
        "    Aproxima la integral definida de una función dada 'f' en el intervalo [a, b]\n",
        "    utilizando la regla adaptativa de Simpson.\n",
        "\n",
        "    Parámetros:\n",
        "    - f (callable): La función a integrar.\n",
        "    - a (float): Límite inferior de la integración.\n",
        "    - b (float): Límite superior de la integración.\n",
        "    - tol (float): Tolerancia para la aproximación.\n",
        "    - N (int, opcional): Número máximo de iteraciones. Por defecto, 100000.\n",
        "\n",
        "    Retorna:\n",
        "    float: La aproximación de la integral definida de 'f' en [a, b].\n",
        "\n",
        "    Lanza:\n",
        "    MaxIterations: Si se alcanza el número máximo de iteraciones 'N' sin satisfacer la tolerancia.\n",
        "\n",
        "    Nota:\n",
        "    Esta función implementa la regla adaptativa de Simpson para la integración numérica,\n",
        "    ajustando el tamaño del paso para lograr la precisión deseada dentro de la tolerancia especificada.\n",
        "    \"\"\"\n",
        "\n",
        "\n",
        "    #Variables iniciales\n",
        "    approx = 0\n",
        "    i = 0\n",
        "    toli = [10*tol]\n",
        "    ai = [a]\n",
        "    hi = [(b - a)/2]\n",
        "    fai = [f(a)]\n",
        "    fbi = [f(b)]\n",
        "    fci = [f(a + hi[i])]\n",
        "    S0i = [hi[i]*(fai[i] + 4*fci[i] + fbi[i])/3]\n",
        "    Li = [1]\n",
        "\n",
        "    while i >= 0:\n",
        "\n",
        "        fd = f(ai[i] + hi[i]/2)\n",
        "        fe = f(ai[i] + 3*hi[i]/2)\n",
        "        S1 = hi[i]*(fai[i] + 4*fd + fci[i])/6\n",
        "        S2 = hi[i]*(fci[i] + 4*fe + fbi[i])/6\n",
        "        ai_prec = ai[i]\n",
        "        hi_prec = hi[i]\n",
        "        fai_prec = fai[i]\n",
        "        fbi_prec = fbi[i]\n",
        "        fci_prec = fci[i]\n",
        "        toli_prec = toli[i]\n",
        "        S0i_prec = S0i[i]\n",
        "        Li_prec = Li[i]\n",
        "\n",
        "        i -= 1\n",
        "        if abs(S1 + S2 - S0i_prec) < toli_prec:\n",
        "            approx += S1 + S2\n",
        "        else:\n",
        "            if Li_prec >= N:\n",
        "                raise MaxIterations(\"Alcanzado máximo número de iteraciones.\")\n",
        "\n",
        "            # Intervalo derecho\n",
        "            i += 1\n",
        "            if i >= len(ai): # A veces hay que ampliar la lista\n",
        "                ai.append(ai_prec + hi_prec)\n",
        "                fai.append(fci_prec)\n",
        "                fci.append(fe)\n",
        "                fbi.append(fbi_prec)\n",
        "                hi.append(hi_prec/2)\n",
        "                toli.append(toli_prec/2)\n",
        "                S0i.append(S2)\n",
        "                Li.append(Li_prec + 1)\n",
        "            else:\n",
        "                ai[i] = ai_prec + hi_prec\n",
        "                fai[i] = fci_prec\n",
        "                fci[i] = fe\n",
        "                fbi[i] = fbi_prec\n",
        "                hi[i] = hi_prec/2\n",
        "                toli[i] = toli_prec/2\n",
        "                S0i[i] = S2\n",
        "                Li[i] = Li_prec + 1\n",
        "\n",
        "            # Intervalo izquierdo\n",
        "            i += 1\n",
        "            if i >= len(ai):\n",
        "                ai.append(ai_prec)\n",
        "                fai.append(fai_prec)\n",
        "                fci.append(fd)\n",
        "                fbi.append(fci_prec)\n",
        "                hi.append(hi[i-1])\n",
        "                toli.append(toli[i-1])\n",
        "                S0i.append(S1)\n",
        "                Li.append(Li[i-1])\n",
        "            else:\n",
        "                ai[i] = ai_prec\n",
        "                fai[i] = fai_prec\n",
        "                fci[i] = fd\n",
        "                fbi[i] = fci_prec\n",
        "                hi[i] = hi[i-1]\n",
        "                toli[i] = toli[i-1]\n",
        "                S0i[i] = S1\n",
        "                Li[i] = Li[i-1]\n",
        "\n",
        "    return approx"
      ]
    },
    {
      "cell_type": "code",
      "execution_count": 8,
      "metadata": {
        "colab": {
          "base_uri": "https://localhost:8080/"
        },
        "id": "4YPmsMweGV1R",
        "outputId": "73e1de02-938a-4744-be4d-3e6d6a8df0b6"
      },
      "outputs": [
        {
          "data": {
            "text/plain": [
              "array([], shape=(0, 2), dtype=float64)"
            ]
          },
          "execution_count": 8,
          "metadata": {},
          "output_type": "execute_result"
        }
      ],
      "source": [
        "#para guardar los datos de los valores pedidos\n",
        "\n",
        "tabla_para_graficar = np.empty([0,2])\n",
        "tabla_para_graficar"
      ]
    },
    {
      "cell_type": "code",
      "execution_count": 11,
      "metadata": {
        "colab": {
          "base_uri": "https://localhost:8080/"
        },
        "id": "prP_DXtgGXwF",
        "outputId": "9a58977f-75a5-41dd-9a09-4b0b01a23644"
      },
      "outputs": [
        {
          "data": {
            "text/plain": [
              "array([[0.00000000e+00, 0.00000000e+00],\n",
              "       [9.99975262e-02, 5.23589387e-04],\n",
              "       [1.99920853e-01, 4.18758861e-03],\n",
              "       [2.99399446e-01, 1.41166481e-02],\n",
              "       [3.97474593e-01, 3.33568374e-02],\n",
              "       [4.92327199e-01, 6.47203162e-02],\n",
              "       [5.81060999e-01, 1.10498453e-01],\n",
              "       [6.59649786e-01, 1.72129265e-01],\n",
              "       [7.22844230e-01, 2.49325381e-01],\n",
              "       [7.64971727e-01, 3.39746957e-01],\n",
              "       [7.79880037e-01, 4.38245260e-01]])"
            ]
          },
          "execution_count": 11,
          "metadata": {},
          "output_type": "execute_result"
        }
      ],
      "source": [
        "#loop que permite evaluar para cada tiempo en las dos funciones de las ecuaciones de fresnel\n",
        "\n",
        "for i in np.arange (0,1.1,0.1):\n",
        "    C_integrado=adaptive(C,0,i,0.0001)\n",
        "    S_integrado=adaptive(S,0,i,0.0001)\n",
        "    resultado_obtenidos= np.array([C_integrado,S_integrado])\n",
        "    tabla_para_graficar=np.vstack([tabla_para_graficar,resultado_obtenidos])\n",
        "\n",
        "tabla_para_graficar"
      ]
    },
    {
      "cell_type": "markdown",
      "metadata": {},
      "source": [
        "# Calificación: 7.0"
      ]
    },
    {
      "cell_type": "markdown",
      "metadata": {},
      "source": []
    }
  ],
  "metadata": {
    "colab": {
      "provenance": []
    },
    "kernelspec": {
      "display_name": "Python 3",
      "name": "python3"
    },
    "language_info": {
      "name": "python"
    }
  },
  "nbformat": 4,
  "nbformat_minor": 0
}
