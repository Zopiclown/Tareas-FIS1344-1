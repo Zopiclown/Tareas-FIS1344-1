{
  "nbformat": 4,
  "nbformat_minor": 0,
  "metadata": {
    "colab": {
      "provenance": []
    },
    "kernelspec": {
      "name": "python3",
      "display_name": "Python 3"
    },
    "language_info": {
      "name": "python"
    }
  },
  "cells": [
    {
      "cell_type": "code",
      "source": [
        "n=0\n",
        "while n != \"salir\":\n",
        "  n = input(\"Escriba algo:\")\n"
      ],
      "metadata": {
        "colab": {
          "base_uri": "https://localhost:8080/"
        },
        "id": "U7kkN2eGBFeA",
        "outputId": "242d5c98-6890-419f-ab65-93335b31d62f"
      },
      "execution_count": 21,
      "outputs": [
        {
          "name": "stdout",
          "output_type": "stream",
          "text": [
            "Escriba algo:algo\n",
            "Escriba algo:salir\n"
          ]
        }
      ]
    }
  ]
}