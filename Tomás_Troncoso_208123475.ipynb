{
  "nbformat": 4,
  "nbformat_minor": 0,
  "metadata": {
    "colab": {
      "provenance": []
    },
    "kernelspec": {
      "name": "python3",
      "display_name": "Python 3"
    },
    "language_info": {
      "name": "python"
    }
  },
  "cells": [
    {
      "cell_type": "code",
      "execution_count": 2,
      "metadata": {
        "id": "tXBpKkuOf8rx"
      },
      "outputs": [],
      "source": [
        "n = 1000\n",
        "s = 0\n",
        "\n",
        "# Tenemos un ciclo que se ejecuta n veces\n",
        "for i in range(n):\n",
        "  # Otro ciclo que se ejecuta n veces\n",
        "    for j in range(n):\n",
        "        if i < j:\n",
        "            s = s + i + j\n"
      ]
    },
    {
      "cell_type": "markdown",
      "source": [
        "Por lo tanto, al tener 2 ciclos que se ejecutan n veces entonces el número de pasos es de la forma $\\mathcal{O}(n^c)$ donde $\\mathcal{c}=2$, entonces el número de pasos es $\\mathcal{O}(n^2)$"
      ],
      "metadata": {
        "id": "V0obWYvLhJVC"
      }
    },
    {
      "cell_type": "code",
      "source": [
        "n = 1000\n",
        "s = 0\n",
        "\n",
        "# Ciclo el cuál se repite n veces\n",
        "for i in range(n):\n",
        "  #Cuando  n  es un número muy grande este ciclo se repite aproximadamente (n^2)/2\n",
        "    for j in range(i):\n",
        "\n",
        "        s = s + i + j"
      ],
      "metadata": {
        "id": "ZUcKSG5Chht5"
      },
      "execution_count": null,
      "outputs": []
    },
    {
      "cell_type": "markdown",
      "source": [
        "Entonces nuestro número de pasos es practicamente igual que el código anterior; $\\mathcal{O}(n^2)$"
      ],
      "metadata": {
        "id": "DP8zc1SFh1xQ"
      }
    },
    {
      "cell_type": "code",
      "source": [
        "n = 1000\n",
        "s = 0\n",
        "# Ciclo que se repite n veces\n",
        "for i in range(n):\n",
        "  #sum() es de la forma O(n), ya que suma en el intervalo n\n",
        "    s = s + i + sum(range(n))\n"
      ],
      "metadata": {
        "id": "4UsNfQDOiEP9"
      },
      "execution_count": null,
      "outputs": []
    },
    {
      "cell_type": "markdown",
      "source": [
        "Por lo tanto el número de pasos es de la forma; $\\mathcal{O}(n^2)$"
      ],
      "metadata": {
        "id": "G17fKnO2jjIN"
      }
    },
    {
      "cell_type": "code",
      "source": [
        "n = 100000\n",
        "small = 0\n",
        "p = 146\n",
        "attempt = n//2\n",
        "not_found = True\n",
        "s = 0\n",
        "while not_found:\n",
        "    s = s + 1\n",
        "    if attempt > p:\n",
        "        n = attempt\n",
        "    elif attempt < p:\n",
        "        small = attempt\n",
        "    else:\n",
        "        print('Encontré', attempt, 'luego de', s, 'pasos')\n",
        "        break\n",
        "    attempt = (n + small)//2"
      ],
      "metadata": {
        "colab": {
          "base_uri": "https://localhost:8080/"
        },
        "id": "js4T4eVijwp7",
        "outputId": "af115313-00b8-43ec-e2ca-199f8571f1a4"
      },
      "execution_count": 27,
      "outputs": [
        {
          "output_type": "stream",
          "name": "stdout",
          "text": [
            "Encontré 146 luego de 11 pasos\n"
          ]
        }
      ]
    },
    {
      "cell_type": "code",
      "source": [
        "#Vares de s para cieros n\n",
        "\n",
        "n        s\n",
        "100000   11\n",
        "200000   12\n",
        "300000   13\n",
        "400000   14\n",
        "500000   15\n",
        "600000   16\n"
      ],
      "metadata": {
        "id": "B1JI4tzjo_Gf"
      },
      "execution_count": null,
      "outputs": []
    },
    {
      "cell_type": "markdown",
      "source": [
        "Podemos notar que no existe ni una relación lineal ni potencial"
      ],
      "metadata": {
        "id": "oeQSDf0cpFe2"
      }
    },
    {
      "cell_type": "code",
      "source": [
        "n_valores = []  # lista vacía para almacenar los valores de n\n",
        "n=100000\n",
        "for i in range(1, 20):  # ciclo para almacenar los valores multipos de\n",
        "    n_valores.append(n)\n",
        "    n*=2\n",
        "\n",
        "s_valores = []  # Lista para almacenar los valores de s correspondientes a cada n\n",
        "\n",
        "for n in n_valores:\n",
        "    small = 0\n",
        "    p = 146\n",
        "    attempt = n // 2\n",
        "    not_found = True\n",
        "    s = 0\n",
        "    while not_found:\n",
        "        s = s + 1\n",
        "        if attempt > p:\n",
        "            n = attempt\n",
        "        elif attempt < p:\n",
        "            small = attempt\n",
        "        else:\n",
        "            s_valores.append(s)  # Agregar el valor de s a la lista de los valores\n",
        "            break\n",
        "        attempt = (n + small) // 2"
      ],
      "metadata": {
        "id": "nx_QL9OcrSWI"
      },
      "execution_count": 42,
      "outputs": []
    },
    {
      "cell_type": "markdown",
      "source": [
        "Modifico un poco el código para poder crear listas de los valores de n y s, para así graficar"
      ],
      "metadata": {
        "id": "wNsfe-REslnL"
      }
    },
    {
      "cell_type": "code",
      "source": [
        "import matplotlib.pyplot as plt\n",
        "\n",
        "plt.scatter(n_valores, s_valores)\n",
        "\n",
        "plt.xlabel('n')\n",
        "plt.ylabel('s')\n",
        "plt.title('s v/s n')\n",
        "\n",
        
      ],
      "metadata": {
        "colab": {
          "base_uri": "https://localhost:8080/",
          "height": 507
        },
        "id": "b2ofPV2xscu2",
        "outputId": "a7c9f515-c8f0-4100-b3fe-fc4c806e1f0a"
      },
      "execution_count": 45,
      "outputs": [
        {
          "output_type": "stream",
          "name": "stderr",
          "text": [
            "WARNING:matplotlib.legend:No artists with labels found to put in legend.  Note that artists whose label start with an underscore are ignored when legend() is called with no argument.\n"
          ]
        },
        {
          "output_type": "execute_result",
          "data": {
            "text/plain": [
              "<matplotlib.legend.Legend at 0x788688682650>"
            ]
          },
          "metadata": {},
          "execution_count": 45
        },
        {
          "output_type": "display_data",
          "data": {
            "text/plain": [
              "<Figure size 640x480 with 1 Axes>"
            ],
            "image/png": "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\n"
          },
          "metadata": {}
        }
      ]
    },
    {
      "cell_type": "markdown",
      "source": [
        "Podemos ver que la forma de la gráfica corresponde a una logarítmica, entonces el número de pasos es de la forma; $\\mathcal{O}(\\log_2 n)$"
      ],
      "metadata": {
        "id": "azuWKuUGt_as"
      }
    }
  ]
}
