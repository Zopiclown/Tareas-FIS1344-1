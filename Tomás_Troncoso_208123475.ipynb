{
  "nbformat": 4,
  "nbformat_minor": 0,
  "metadata": {
    "colab": {
      "provenance": []
    },
    "kernelspec": {
      "name": "python3",
      "display_name": "Python 3"
    },
    "language_info": {
      "name": "python"
    }
  },
  "cells": [
    {
      "cell_type": "code",
      "source": [
        "#Asignamos un valor a la variable \"n\" mediante la orden \"Escriba algo:\" que aparecerá en la interfaz\n",
        "n = input(\"Escriba algo:\")\n",
        "#Ciclo while, donde, mientras \"n\" no sea igual a \"salir\", volver a pedirle usuario que \"Escriba algo\", y así consecutivamente\n",
        "while n != \"salir\":\n",
        "  n = input(\"Escriba algo:\")\n"
      ],
      "metadata": {
        "colab": {
          "base_uri": "https://localhost:8080/"
        },
        "id": "U7kkN2eGBFeA",
        "outputId": "1c9a3bd4-693c-449c-84d8-847409cc05da"
      },
      "execution_count": 3,
      "outputs": [
        {
          "name": "stdout",
          "output_type": "stream",
          "text": [
            "Escriba algo:algo\n",
            "Escriba algo:salir\n"
          ]
        }
      ]
    }
  ]
}