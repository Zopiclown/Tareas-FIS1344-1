{
  "cells": [
    {
      "cell_type": "code",
      "execution_count": 3,
      "metadata": {
        "colab": {
          "base_uri": "https://localhost:8080/"
        },
        "id": "U7kkN2eGBFeA",
        "outputId": "1c9a3bd4-693c-449c-84d8-847409cc05da"
      },
      "outputs": [
        {
          "name": "stdout",
          "output_type": "stream",
          "text": [
            "Escriba algo:algo\n",
            "Escriba algo:salir\n"
          ]
        }
      ],
      "source": [
        "#Asignamos un valor a la variable \"n\" mediante la orden \"Escriba algo:\" que aparecerá en la interfaz\n",
        "n = input(\"Escriba algo:\")\n",
        "#Ciclo while, donde, mientras \"n\" no sea igual a \"salir\", volverá a pedirle usuario que \"Escriba algo\", y así consecutivamente\n",
        "while n != \"salir\":\n",
        "  n = input(\"Escriba algo:\")\n"
      ]
    },
    {
      "cell_type": "markdown",
      "metadata": {},
      "source": [
        "# Calificación: 7.0"
      ]
    },
    {
      "cell_type": "markdown",
      "metadata": {},
      "source": []
    }
  ],
  "metadata": {
    "colab": {
      "provenance": []
    },
    "kernelspec": {
      "display_name": "Python 3",
      "name": "python3"
    },
    "language_info": {
      "name": "python"
    }
  },
  "nbformat": 4,
  "nbformat_minor": 0
}
