{
 "cells": [
  {
   "cell_type": "code",
   "execution_count": 1,
   "metadata": {
    "colab": {
     "base_uri": "https://localhost:8080/"
    },
    "id": "jcZF_j9gS5OF",
    "outputId": "cd629704-9c30-4783-b9d8-7134852dbfbc"
   },
   "outputs": [
    {
     "name": "stdout",
     "output_type": "stream",
     "text": [
      "[[1. 2.]\n",
      " [3. 4.]\n",
      " [5. 6.]]\n"
     ]
    }
   ],
   "source": [
    "#importo la extención numpy para utilizar np.zeros en el código\n",
    "import numpy as np\n",
    "\n",
    "#creo un arreglo de ceros\n",
    "arreglo_de_ceros = np.zeros((3, 2))\n",
    "\n",
    "#defino constante que será utilizada para llenar los arreglos igual a 1 ya que este es el primer número\n",
    "c=1\n",
    "\n",
    "#para llenar el arreglo de los terminos creo 2 ciclos for, se irá reemplazando por \"c\" cada valor\n",
    "for i in range(3):\n",
    "    for j in range(2):\n",
    "      arreglo_de_ceros[i,j]=c\n",
    "#c+=1 para que este número vaya creciendo en uno en cada etapa del ciclo y así ir llenando de números consecutivos\n",
    "      c+=1\n",
    "#para imprimir el resultado\n",
    "\n",
    "print(arreglo_de_ceros)"
   ]
  },
  {
   "cell_type": "markdown",
   "metadata": {},
   "source": [
    "# Calificacion: 7.0"
   ]
  }
 ],
 "metadata": {
  "colab": {
   "provenance": []
  },
  "kernelspec": {
   "display_name": "Python 3 (ipykernel)",
   "language": "python",
   "name": "python3"
  },
  "language_info": {
   "codemirror_mode": {
    "name": "ipython",
    "version": 3
   },
   "file_extension": ".py",
   "mimetype": "text/x-python",
   "name": "python",
   "nbconvert_exporter": "python",
   "pygments_lexer": "ipython3",
   "version": "3.9.13"
  }
 },
 "nbformat": 4,
 "nbformat_minor": 1
}
