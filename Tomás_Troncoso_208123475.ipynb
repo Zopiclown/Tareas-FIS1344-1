{
  "nbformat": 4,
  "nbformat_minor": 0,
  "metadata": {
    "colab": {
      "provenance": []
    },
    "kernelspec": {
      "name": "python3",
      "display_name": "Python 3"
    },
    "language_info": {
      "name": "python"
    }
  },
  "cells": [
    {
      "cell_type": "code",
      "execution_count": 1,
      "metadata": {
        "id": "TAY3dZKijKiX"
      },
      "outputs": [],
      "source": [
        "import os\n",
        "import numpy as np\n",
        "\n",
        "def txt_hd5(txt,hd5):\n",
        "\n",
        "  # Para abrir en modo lectura simulacion.txt como archivo\n",
        "  with open(txt, \"r\") as archivo:\n",
        "      # listas vacías para rellenarlas de cada columna\n",
        "      x = []\n",
        "      y = []\n",
        "      z = []\n",
        "\n",
        "    # para iterar en cada linea del archivo\n",
        "      for linea in archivo:\n",
        "          # divide cada linea por los espacios entre ellas en 3 grupos, que serían cada columna\n",
        "          columnas = linea.strip().split()\n",
        "\n",
        "          # para poder agregarlos a las listas convierto los datos en float\n",
        "          datos_x = float(columnas[0])\n",
        "          datos_y = float(columnas[1])\n",
        "          datos_z = float(columnas[2])\n",
        "\n",
        "          # para agregar los datos a las listas\n",
        "          x.append(datos_x)\n",
        "          y.append(datos_y)\n",
        "          z.append(datos_z)\n",
        "\n",
        "  # Creo los dataset con las listas\n",
        "  with h5py.File(hd5, 'w') as file:\n",
        "      datos1 = file.create_dataset('datos1', data=x)\n",
        "      datos2 = file.create_dataset('datos2', data=y)\n",
        "      datos3 = file.create_dataset('datos3', data=z)"
      ]
    }
  ]
}